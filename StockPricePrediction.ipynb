{
  "nbformat": 4,
  "nbformat_minor": 0,
  "metadata": {
    "colab": {
      "name": "StockPricePrediction.ipynb",
      "provenance": [],
      "collapsed_sections": []
    },
    "kernelspec": {
      "name": "python3",
      "display_name": "Python 3"
    }
  },
  "cells": [
    {
      "cell_type": "code",
      "metadata": {
        "id": "H3q9LxsjHcL6"
      },
      "source": [
        "import pandas as pd\n",
        "import numpy as np"
      ],
      "execution_count": 1,
      "outputs": []
    },
    {
      "cell_type": "code",
      "metadata": {
        "id": "RZA_IU5JHmR4"
      },
      "source": [
        "df = pd.read_csv('/BAJFINANCE.csv')"
      ],
      "execution_count": 4,
      "outputs": []
    },
    {
      "cell_type": "code",
      "metadata": {
        "colab": {
          "base_uri": "https://localhost:8080/",
          "height": 326
        },
        "id": "vRiRFJa_IGXM",
        "outputId": "59a1f2a8-54f6-479d-db8f-0c0f0567c2d0"
      },
      "source": [
        "df.head()"
      ],
      "execution_count": 5,
      "outputs": [
        {
          "output_type": "execute_result",
          "data": {
            "text/html": [
              "<div>\n",
              "<style scoped>\n",
              "    .dataframe tbody tr th:only-of-type {\n",
              "        vertical-align: middle;\n",
              "    }\n",
              "\n",
              "    .dataframe tbody tr th {\n",
              "        vertical-align: top;\n",
              "    }\n",
              "\n",
              "    .dataframe thead th {\n",
              "        text-align: right;\n",
              "    }\n",
              "</style>\n",
              "<table border=\"1\" class=\"dataframe\">\n",
              "  <thead>\n",
              "    <tr style=\"text-align: right;\">\n",
              "      <th></th>\n",
              "      <th>Date</th>\n",
              "      <th>Symbol</th>\n",
              "      <th>Series</th>\n",
              "      <th>Prev Close</th>\n",
              "      <th>Open</th>\n",
              "      <th>High</th>\n",
              "      <th>Low</th>\n",
              "      <th>Last</th>\n",
              "      <th>Close</th>\n",
              "      <th>VWAP</th>\n",
              "      <th>Volume</th>\n",
              "      <th>Turnover</th>\n",
              "      <th>Trades</th>\n",
              "      <th>Deliverable Volume</th>\n",
              "      <th>%Deliverble</th>\n",
              "    </tr>\n",
              "  </thead>\n",
              "  <tbody>\n",
              "    <tr>\n",
              "      <th>0</th>\n",
              "      <td>2000-01-03</td>\n",
              "      <td>BAJAUTOFIN</td>\n",
              "      <td>EQ</td>\n",
              "      <td>46.95</td>\n",
              "      <td>49.45</td>\n",
              "      <td>50.75</td>\n",
              "      <td>46.5</td>\n",
              "      <td>50.75</td>\n",
              "      <td>50.75</td>\n",
              "      <td>50.05</td>\n",
              "      <td>7600</td>\n",
              "      <td>3.803800e+10</td>\n",
              "      <td>NaN</td>\n",
              "      <td>NaN</td>\n",
              "      <td>NaN</td>\n",
              "    </tr>\n",
              "    <tr>\n",
              "      <th>1</th>\n",
              "      <td>2000-01-04</td>\n",
              "      <td>BAJAUTOFIN</td>\n",
              "      <td>EQ</td>\n",
              "      <td>50.75</td>\n",
              "      <td>53.20</td>\n",
              "      <td>53.20</td>\n",
              "      <td>47.9</td>\n",
              "      <td>48.00</td>\n",
              "      <td>48.10</td>\n",
              "      <td>48.56</td>\n",
              "      <td>5000</td>\n",
              "      <td>2.428000e+10</td>\n",
              "      <td>NaN</td>\n",
              "      <td>NaN</td>\n",
              "      <td>NaN</td>\n",
              "    </tr>\n",
              "    <tr>\n",
              "      <th>2</th>\n",
              "      <td>2000-01-05</td>\n",
              "      <td>BAJAUTOFIN</td>\n",
              "      <td>EQ</td>\n",
              "      <td>48.10</td>\n",
              "      <td>46.55</td>\n",
              "      <td>47.40</td>\n",
              "      <td>44.6</td>\n",
              "      <td>44.60</td>\n",
              "      <td>44.60</td>\n",
              "      <td>45.47</td>\n",
              "      <td>3500</td>\n",
              "      <td>1.591450e+10</td>\n",
              "      <td>NaN</td>\n",
              "      <td>NaN</td>\n",
              "      <td>NaN</td>\n",
              "    </tr>\n",
              "    <tr>\n",
              "      <th>3</th>\n",
              "      <td>2000-01-06</td>\n",
              "      <td>BAJAUTOFIN</td>\n",
              "      <td>EQ</td>\n",
              "      <td>44.60</td>\n",
              "      <td>43.50</td>\n",
              "      <td>46.00</td>\n",
              "      <td>42.1</td>\n",
              "      <td>46.00</td>\n",
              "      <td>45.25</td>\n",
              "      <td>44.43</td>\n",
              "      <td>6200</td>\n",
              "      <td>2.754750e+10</td>\n",
              "      <td>NaN</td>\n",
              "      <td>NaN</td>\n",
              "      <td>NaN</td>\n",
              "    </tr>\n",
              "    <tr>\n",
              "      <th>4</th>\n",
              "      <td>2000-01-07</td>\n",
              "      <td>BAJAUTOFIN</td>\n",
              "      <td>EQ</td>\n",
              "      <td>45.25</td>\n",
              "      <td>48.00</td>\n",
              "      <td>48.00</td>\n",
              "      <td>42.0</td>\n",
              "      <td>42.90</td>\n",
              "      <td>42.90</td>\n",
              "      <td>44.44</td>\n",
              "      <td>3500</td>\n",
              "      <td>1.555550e+10</td>\n",
              "      <td>NaN</td>\n",
              "      <td>NaN</td>\n",
              "      <td>NaN</td>\n",
              "    </tr>\n",
              "  </tbody>\n",
              "</table>\n",
              "</div>"
            ],
            "text/plain": [
              "         Date      Symbol Series  ...  Trades  Deliverable Volume  %Deliverble\n",
              "0  2000-01-03  BAJAUTOFIN     EQ  ...     NaN                 NaN          NaN\n",
              "1  2000-01-04  BAJAUTOFIN     EQ  ...     NaN                 NaN          NaN\n",
              "2  2000-01-05  BAJAUTOFIN     EQ  ...     NaN                 NaN          NaN\n",
              "3  2000-01-06  BAJAUTOFIN     EQ  ...     NaN                 NaN          NaN\n",
              "4  2000-01-07  BAJAUTOFIN     EQ  ...     NaN                 NaN          NaN\n",
              "\n",
              "[5 rows x 15 columns]"
            ]
          },
          "metadata": {
            "tags": []
          },
          "execution_count": 5
        }
      ]
    },
    {
      "cell_type": "code",
      "metadata": {
        "id": "sPH7GES7I0HI"
      },
      "source": [
        "df.set_index('Date',inplace=True)"
      ],
      "execution_count": 6,
      "outputs": []
    },
    {
      "cell_type": "code",
      "metadata": {
        "colab": {
          "base_uri": "https://localhost:8080/",
          "height": 299
        },
        "id": "I3_0uU4gI__0",
        "outputId": "7ceb41c9-7f1c-4fa3-e09d-ad1e8c617f59"
      },
      "source": [
        "df['VWAP'].plot()"
      ],
      "execution_count": 15,
      "outputs": [
        {
          "output_type": "execute_result",
          "data": {
            "text/plain": [
              "<matplotlib.axes._subplots.AxesSubplot at 0x7f7225519150>"
            ]
          },
          "metadata": {
            "tags": []
          },
          "execution_count": 15
        },
        {
          "output_type": "display_data",
          "data": {
            "image/png": "[encoded data removed]",
            "text/plain": [
              "<Figure size 432x288 with 1 Axes>"
            ]
          },
          "metadata": {
            "tags": [],
            "needs_background": "light"
          }
        }
      ]
    },
    {
      "cell_type": "code",
      "metadata": {
        "colab": {
          "base_uri": "https://localhost:8080/"
        },
        "id": "Oa6cYnZfJD9d",
        "outputId": "184ab3e4-ea9a-4e66-8bc8-bf48b65b27ae"
      },
      "source": [
        "df.isna().sum()"
      ],
      "execution_count": 16,
      "outputs": [
        {
          "output_type": "execute_result",
          "data": {
            "text/plain": [
              "Symbol                   0\n",
              "Series                   0\n",
              "Prev Close               0\n",
              "Open                     0\n",
              "High                     0\n",
              "Low                      0\n",
              "Last                     0\n",
              "Close                    0\n",
              "VWAP                     0\n",
              "Volume                   0\n",
              "Turnover                 0\n",
              "Trades                2779\n",
              "Deliverable Volume     446\n",
              "%Deliverble            446\n",
              "dtype: int64"
            ]
          },
          "metadata": {
            "tags": []
          },
          "execution_count": 16
        }
      ]
    },
    {
      "cell_type": "code",
      "metadata": {
        "colab": {
          "base_uri": "https://localhost:8080/"
        },
        "id": "KjAAk5VcJI9z",
        "outputId": "7411df8a-ac1e-49b4-f802-cec3d05d3191"
      },
      "source": [
        "df.shape"
      ],
      "execution_count": 17,
      "outputs": [
        {
          "output_type": "execute_result",
          "data": {
            "text/plain": [
              "(5070, 14)"
            ]
          },
          "metadata": {
            "tags": []
          },
          "execution_count": 17
        }
      ]
    },
    {
      "cell_type": "code",
      "metadata": {
        "id": "glf0VwL9JLbD"
      },
      "source": [
        "df.dropna(inplace=True)"
      ],
      "execution_count": 18,
      "outputs": []
    },
    {
      "cell_type": "code",
      "metadata": {
        "colab": {
          "base_uri": "https://localhost:8080/"
        },
        "id": "dwZlolXZJWpF",
        "outputId": "a5cab0f6-25f5-49e1-c381-a7d2b5aacbfc"
      },
      "source": [
        "df.isna().sum()"
      ],
      "execution_count": 19,
      "outputs": [
        {
          "output_type": "execute_result",
          "data": {
            "text/plain": [
              "Symbol                0\n",
              "Series                0\n",
              "Prev Close            0\n",
              "Open                  0\n",
              "High                  0\n",
              "Low                   0\n",
              "Last                  0\n",
              "Close                 0\n",
              "VWAP                  0\n",
              "Volume                0\n",
              "Turnover              0\n",
              "Trades                0\n",
              "Deliverable Volume    0\n",
              "%Deliverble           0\n",
              "dtype: int64"
            ]
          },
          "metadata": {
            "tags": []
          },
          "execution_count": 19
        }
      ]
    },
    {
      "cell_type": "code",
      "metadata": {
        "colab": {
          "base_uri": "https://localhost:8080/"
        },
        "id": "nxr5qpb_JYkC",
        "outputId": "4e5128e4-b1de-42ca-ff53-85c14deea155"
      },
      "source": [
        "df.shape"
      ],
      "execution_count": 20,
      "outputs": [
        {
          "output_type": "execute_result",
          "data": {
            "text/plain": [
              "(2291, 14)"
            ]
          },
          "metadata": {
            "tags": []
          },
          "execution_count": 20
        }
      ]
    },
    {
      "cell_type": "code",
      "metadata": {
        "id": "E0KUqlhiJZpT"
      },
      "source": [
        "data = df.copy()"
      ],
      "execution_count": 21,
      "outputs": []
    },
    {
      "cell_type": "code",
      "metadata": {
        "colab": {
          "base_uri": "https://localhost:8080/"
        },
        "id": "eG-E_KzJJdBY",
        "outputId": "e745cd75-e952-4d00-fb91-4b057a42f934"
      },
      "source": [
        "df.dtypes"
      ],
      "execution_count": 22,
      "outputs": [
        {
          "output_type": "execute_result",
          "data": {
            "text/plain": [
              "Symbol                 object\n",
              "Series                 object\n",
              "Prev Close            float64\n",
              "Open                  float64\n",
              "High                  float64\n",
              "Low                   float64\n",
              "Last                  float64\n",
              "Close                 float64\n",
              "VWAP                  float64\n",
              "Volume                  int64\n",
              "Turnover              float64\n",
              "Trades                float64\n",
              "Deliverable Volume    float64\n",
              "%Deliverble           float64\n",
              "dtype: object"
            ]
          },
          "metadata": {
            "tags": []
          },
          "execution_count": 22
        }
      ]
    },
    {
      "cell_type": "code",
      "metadata": {
        "colab": {
          "base_uri": "https://localhost:8080/"
        },
        "id": "zpv_PitZJeVs",
        "outputId": "d103f176-d490-4cf4-a084-18a7f93675f9"
      },
      "source": [
        "data.columns"
      ],
      "execution_count": 23,
      "outputs": [
        {
          "output_type": "execute_result",
          "data": {
            "text/plain": [
              "Index(['Symbol', 'Series', 'Prev Close', 'Open', 'High', 'Low', 'Last',\n",
              "       'Close', 'VWAP', 'Volume', 'Turnover', 'Trades', 'Deliverable Volume',\n",
              "       '%Deliverble'],\n",
              "      dtype='object')"
            ]
          },
          "metadata": {
            "tags": []
          },
          "execution_count": 23
        }
      ]
    },
    {
      "cell_type": "code",
      "metadata": {
        "id": "2Ruf6qQEJlZ-"
      },
      "source": [
        "lag_features = ['High', 'Low','Volume', 'Turnover', 'Trades']\n",
        "window1 = 3\n",
        "window2 = 7"
      ],
      "execution_count": 24,
      "outputs": []
    },
    {
      "cell_type": "code",
      "metadata": {
        "id": "f8f8Mu65Jw4G"
      },
      "source": [
        "for feature in lag_features:\n",
        "  data[feature+'rolling_mean_3']=data[feature].rolling(window=window1).mean()\n",
        "  data[feature+'rolling_mean_7']=data[feature].rolling(window=window2).mean()"
      ],
      "execution_count": 25,
      "outputs": []
    },
    {
      "cell_type": "code",
      "metadata": {
        "id": "DKcNifSxKRpg"
      },
      "source": [
        "for feature in lag_features:\n",
        "  data[feature+'rolling_std_3']=data[feature].rolling(window=window1).std()\n",
        "  data[feature+'rolling_std_7']=data[feature].rolling(window=window2).std()"
      ],
      "execution_count": 26,
      "outputs": []
    },
    {
      "cell_type": "code",
      "metadata": {
        "colab": {
          "base_uri": "https://localhost:8080/",
          "height": 357
        },
        "id": "IVJoUWDuKc0n",
        "outputId": "3fda3b3a-6919-4eaa-e5fc-c4c56a30a0d9"
      },
      "source": [
        "data.head()"
      ],
      "execution_count": 27,
      "outputs": [
        {
          "output_type": "execute_result",
          "data": {
            "text/html": [
              "<div>\n",
              "<style scoped>\n",
              "    .dataframe tbody tr th:only-of-type {\n",
              "        vertical-align: middle;\n",
              "    }\n",
              "\n",
              "    .dataframe tbody tr th {\n",
              "        vertical-align: top;\n",
              "    }\n",
              "\n",
              "    .dataframe thead th {\n",
              "        text-align: right;\n",
              "    }\n",
              "</style>\n",
              "<table border=\"1\" class=\"dataframe\">\n",
              "  <thead>\n",
              "    <tr style=\"text-align: right;\">\n",
              "      <th></th>\n",
              "      <th>Symbol</th>\n",
              "      <th>Series</th>\n",
              "      <th>Prev Close</th>\n",
              "      <th>Open</th>\n",
              "      <th>High</th>\n",
              "      <th>Low</th>\n",
              "      <th>Last</th>\n",
              "      <th>Close</th>\n",
              "      <th>VWAP</th>\n",
              "      <th>Volume</th>\n",
              "      <th>Turnover</th>\n",
              "      <th>Trades</th>\n",
              "      <th>Deliverable Volume</th>\n",
              "      <th>%Deliverble</th>\n",
              "      <th>Highrolling_mean_3</th>\n",
              "      <th>Highrolling_mean_7</th>\n",
              "      <th>Lowrolling_mean_3</th>\n",
              "      <th>Lowrolling_mean_7</th>\n",
              "      <th>Volumerolling_mean_3</th>\n",
              "      <th>Volumerolling_mean_7</th>\n",
              "      <th>Turnoverrolling_mean_3</th>\n",
              "      <th>Turnoverrolling_mean_7</th>\n",
              "      <th>Tradesrolling_mean_3</th>\n",
              "      <th>Tradesrolling_mean_7</th>\n",
              "      <th>Highrolling_std_3</th>\n",
              "      <th>Highrolling_std_7</th>\n",
              "      <th>Lowrolling_std_3</th>\n",
              "      <th>Lowrolling_std_7</th>\n",
              "      <th>Volumerolling_std_3</th>\n",
              "      <th>Volumerolling_std_7</th>\n",
              "      <th>Turnoverrolling_std_3</th>\n",
              "      <th>Turnoverrolling_std_7</th>\n",
              "      <th>Tradesrolling_std_3</th>\n",
              "      <th>Tradesrolling_std_7</th>\n",
              "    </tr>\n",
              "    <tr>\n",
              "      <th>Date</th>\n",
              "      <th></th>\n",
              "      <th></th>\n",
              "      <th></th>\n",
              "      <th></th>\n",
              "      <th></th>\n",
              "      <th></th>\n",
              "      <th></th>\n",
              "      <th></th>\n",
              "      <th></th>\n",
              "      <th></th>\n",
              "      <th></th>\n",
              "      <th></th>\n",
              "      <th></th>\n",
              "      <th></th>\n",
              "      <th></th>\n",
              "      <th></th>\n",
              "      <th></th>\n",
              "      <th></th>\n",
              "      <th></th>\n",
              "      <th></th>\n",
              "      <th></th>\n",
              "      <th></th>\n",
              "      <th></th>\n",
              "      <th></th>\n",
              "      <th></th>\n",
              "      <th></th>\n",
              "      <th></th>\n",
              "      <th></th>\n",
              "      <th></th>\n",
              "      <th></th>\n",
              "      <th></th>\n",
              "      <th></th>\n",
              "      <th></th>\n",
              "      <th></th>\n",
              "    </tr>\n",
              "  </thead>\n",
              "  <tbody>\n",
              "    <tr>\n",
              "      <th>2011-06-01</th>\n",
              "      <td>BAJFINANCE</td>\n",
              "      <td>EQ</td>\n",
              "      <td>616.70</td>\n",
              "      <td>617.00</td>\n",
              "      <td>636.50</td>\n",
              "      <td>616.00</td>\n",
              "      <td>627.00</td>\n",
              "      <td>631.85</td>\n",
              "      <td>627.01</td>\n",
              "      <td>6894</td>\n",
              "      <td>4.322621e+11</td>\n",
              "      <td>1416.0</td>\n",
              "      <td>3427.0</td>\n",
              "      <td>0.4971</td>\n",
              "      <td>NaN</td>\n",
              "      <td>NaN</td>\n",
              "      <td>NaN</td>\n",
              "      <td>NaN</td>\n",
              "      <td>NaN</td>\n",
              "      <td>NaN</td>\n",
              "      <td>NaN</td>\n",
              "      <td>NaN</td>\n",
              "      <td>NaN</td>\n",
              "      <td>NaN</td>\n",
              "      <td>NaN</td>\n",
              "      <td>NaN</td>\n",
              "      <td>NaN</td>\n",
              "      <td>NaN</td>\n",
              "      <td>NaN</td>\n",
              "      <td>NaN</td>\n",
              "      <td>NaN</td>\n",
              "      <td>NaN</td>\n",
              "      <td>NaN</td>\n",
              "      <td>NaN</td>\n",
              "    </tr>\n",
              "    <tr>\n",
              "      <th>2011-06-02</th>\n",
              "      <td>BAJFINANCE</td>\n",
              "      <td>EQ</td>\n",
              "      <td>631.85</td>\n",
              "      <td>625.00</td>\n",
              "      <td>638.90</td>\n",
              "      <td>620.00</td>\n",
              "      <td>634.00</td>\n",
              "      <td>633.45</td>\n",
              "      <td>636.04</td>\n",
              "      <td>2769</td>\n",
              "      <td>1.761205e+11</td>\n",
              "      <td>432.0</td>\n",
              "      <td>1718.0</td>\n",
              "      <td>0.6204</td>\n",
              "      <td>NaN</td>\n",
              "      <td>NaN</td>\n",
              "      <td>NaN</td>\n",
              "      <td>NaN</td>\n",
              "      <td>NaN</td>\n",
              "      <td>NaN</td>\n",
              "      <td>NaN</td>\n",
              "      <td>NaN</td>\n",
              "      <td>NaN</td>\n",
              "      <td>NaN</td>\n",
              "      <td>NaN</td>\n",
              "      <td>NaN</td>\n",
              "      <td>NaN</td>\n",
              "      <td>NaN</td>\n",
              "      <td>NaN</td>\n",
              "      <td>NaN</td>\n",
              "      <td>NaN</td>\n",
              "      <td>NaN</td>\n",
              "      <td>NaN</td>\n",
              "      <td>NaN</td>\n",
              "    </tr>\n",
              "    <tr>\n",
              "      <th>2011-06-03</th>\n",
              "      <td>BAJFINANCE</td>\n",
              "      <td>EQ</td>\n",
              "      <td>633.45</td>\n",
              "      <td>625.15</td>\n",
              "      <td>637.80</td>\n",
              "      <td>620.00</td>\n",
              "      <td>623.00</td>\n",
              "      <td>625.00</td>\n",
              "      <td>625.09</td>\n",
              "      <td>51427</td>\n",
              "      <td>3.214631e+12</td>\n",
              "      <td>135.0</td>\n",
              "      <td>50912.0</td>\n",
              "      <td>0.9900</td>\n",
              "      <td>637.733333</td>\n",
              "      <td>NaN</td>\n",
              "      <td>618.666667</td>\n",
              "      <td>NaN</td>\n",
              "      <td>20363.333333</td>\n",
              "      <td>NaN</td>\n",
              "      <td>1.274338e+12</td>\n",
              "      <td>NaN</td>\n",
              "      <td>661.000000</td>\n",
              "      <td>NaN</td>\n",
              "      <td>1.201388</td>\n",
              "      <td>NaN</td>\n",
              "      <td>2.309401</td>\n",
              "      <td>NaN</td>\n",
              "      <td>26980.871860</td>\n",
              "      <td>NaN</td>\n",
              "      <td>1.685217e+12</td>\n",
              "      <td>NaN</td>\n",
              "      <td>670.500559</td>\n",
              "      <td>NaN</td>\n",
              "    </tr>\n",
              "    <tr>\n",
              "      <th>2011-06-06</th>\n",
              "      <td>BAJFINANCE</td>\n",
              "      <td>EQ</td>\n",
              "      <td>625.00</td>\n",
              "      <td>620.00</td>\n",
              "      <td>641.00</td>\n",
              "      <td>611.35</td>\n",
              "      <td>611.35</td>\n",
              "      <td>614.00</td>\n",
              "      <td>616.03</td>\n",
              "      <td>5446</td>\n",
              "      <td>3.354910e+11</td>\n",
              "      <td>268.0</td>\n",
              "      <td>4312.0</td>\n",
              "      <td>0.7918</td>\n",
              "      <td>639.233333</td>\n",
              "      <td>NaN</td>\n",
              "      <td>617.116667</td>\n",
              "      <td>NaN</td>\n",
              "      <td>19880.666667</td>\n",
              "      <td>NaN</td>\n",
              "      <td>1.242081e+12</td>\n",
              "      <td>NaN</td>\n",
              "      <td>278.333333</td>\n",
              "      <td>NaN</td>\n",
              "      <td>1.625833</td>\n",
              "      <td>NaN</td>\n",
              "      <td>4.994080</td>\n",
              "      <td>NaN</td>\n",
              "      <td>27352.695339</td>\n",
              "      <td>NaN</td>\n",
              "      <td>1.710136e+12</td>\n",
              "      <td>NaN</td>\n",
              "      <td>148.769396</td>\n",
              "      <td>NaN</td>\n",
              "    </tr>\n",
              "    <tr>\n",
              "      <th>2011-06-07</th>\n",
              "      <td>BAJFINANCE</td>\n",
              "      <td>EQ</td>\n",
              "      <td>614.00</td>\n",
              "      <td>604.00</td>\n",
              "      <td>623.95</td>\n",
              "      <td>604.00</td>\n",
              "      <td>619.90</td>\n",
              "      <td>619.15</td>\n",
              "      <td>617.73</td>\n",
              "      <td>5991</td>\n",
              "      <td>3.700840e+11</td>\n",
              "      <td>273.0</td>\n",
              "      <td>4073.0</td>\n",
              "      <td>0.6799</td>\n",
              "      <td>634.250000</td>\n",
              "      <td>NaN</td>\n",
              "      <td>611.783333</td>\n",
              "      <td>NaN</td>\n",
              "      <td>20954.666667</td>\n",
              "      <td>NaN</td>\n",
              "      <td>1.306735e+12</td>\n",
              "      <td>NaN</td>\n",
              "      <td>225.333333</td>\n",
              "      <td>NaN</td>\n",
              "      <td>9.062422</td>\n",
              "      <td>NaN</td>\n",
              "      <td>8.008797</td>\n",
              "      <td>NaN</td>\n",
              "      <td>26391.221653</td>\n",
              "      <td>NaN</td>\n",
              "      <td>1.652377e+12</td>\n",
              "      <td>NaN</td>\n",
              "      <td>78.270897</td>\n",
              "      <td>NaN</td>\n",
              "    </tr>\n",
              "  </tbody>\n",
              "</table>\n",
              "</div>"
            ],
            "text/plain": [
              "                Symbol Series  ...  Tradesrolling_std_3  Tradesrolling_std_7\n",
              "Date                           ...                                          \n",
              "2011-06-01  BAJFINANCE     EQ  ...                  NaN                  NaN\n",
              "2011-06-02  BAJFINANCE     EQ  ...                  NaN                  NaN\n",
              "2011-06-03  BAJFINANCE     EQ  ...           670.500559                  NaN\n",
              "2011-06-06  BAJFINANCE     EQ  ...           148.769396                  NaN\n",
              "2011-06-07  BAJFINANCE     EQ  ...            78.270897                  NaN\n",
              "\n",
              "[5 rows x 34 columns]"
            ]
          },
          "metadata": {
            "tags": []
          },
          "execution_count": 27
        }
      ]
    },
    {
      "cell_type": "code",
      "metadata": {
        "colab": {
          "base_uri": "https://localhost:8080/"
        },
        "id": "4Cyuw338KeXK",
        "outputId": "63fdc655-2cbc-443e-911c-cafc03887ccf"
      },
      "source": [
        "data.columns"
      ],
      "execution_count": 28,
      "outputs": [
        {
          "output_type": "execute_result",
          "data": {
            "text/plain": [
              "Index(['Symbol', 'Series', 'Prev Close', 'Open', 'High', 'Low', 'Last',\n",
              "       'Close', 'VWAP', 'Volume', 'Turnover', 'Trades', 'Deliverable Volume',\n",
              "       '%Deliverble', 'Highrolling_mean_3', 'Highrolling_mean_7',\n",
              "       'Lowrolling_mean_3', 'Lowrolling_mean_7', 'Volumerolling_mean_3',\n",
              "       'Volumerolling_mean_7', 'Turnoverrolling_mean_3',\n",
              "       'Turnoverrolling_mean_7', 'Tradesrolling_mean_3',\n",
              "       'Tradesrolling_mean_7', 'Highrolling_std_3', 'Highrolling_std_7',\n",
              "       'Lowrolling_std_3', 'Lowrolling_std_7', 'Volumerolling_std_3',\n",
              "       'Volumerolling_std_7', 'Turnoverrolling_std_3', 'Turnoverrolling_std_7',\n",
              "       'Tradesrolling_std_3', 'Tradesrolling_std_7'],\n",
              "      dtype='object')"
            ]
          },
          "metadata": {
            "tags": []
          },
          "execution_count": 28
        }
      ]
    },
    {
      "cell_type": "code",
      "metadata": {
        "colab": {
          "base_uri": "https://localhost:8080/"
        },
        "id": "XAG8_bZkKitF",
        "outputId": "51a83221-bb89-4fb3-a80d-981ff6cbcc39"
      },
      "source": [
        "data.shape"
      ],
      "execution_count": 29,
      "outputs": [
        {
          "output_type": "execute_result",
          "data": {
            "text/plain": [
              "(2291, 34)"
            ]
          },
          "metadata": {
            "tags": []
          },
          "execution_count": 29
        }
      ]
    },
    {
      "cell_type": "code",
      "metadata": {
        "colab": {
          "base_uri": "https://localhost:8080/"
        },
        "id": "_YL3zHS9Ky8i",
        "outputId": "7c3f73b0-d413-4b4e-db5d-8f91475906d0"
      },
      "source": [
        "data.isna().sum()"
      ],
      "execution_count": 30,
      "outputs": [
        {
          "output_type": "execute_result",
          "data": {
            "text/plain": [
              "Symbol                    0\n",
              "Series                    0\n",
              "Prev Close                0\n",
              "Open                      0\n",
              "High                      0\n",
              "Low                       0\n",
              "Last                      0\n",
              "Close                     0\n",
              "VWAP                      0\n",
              "Volume                    0\n",
              "Turnover                  0\n",
              "Trades                    0\n",
              "Deliverable Volume        0\n",
              "%Deliverble               0\n",
              "Highrolling_mean_3        2\n",
              "Highrolling_mean_7        6\n",
              "Lowrolling_mean_3         2\n",
              "Lowrolling_mean_7         6\n",
              "Volumerolling_mean_3      2\n",
              "Volumerolling_mean_7      6\n",
              "Turnoverrolling_mean_3    2\n",
              "Turnoverrolling_mean_7    6\n",
              "Tradesrolling_mean_3      2\n",
              "Tradesrolling_mean_7      6\n",
              "Highrolling_std_3         2\n",
              "Highrolling_std_7         6\n",
              "Lowrolling_std_3          2\n",
              "Lowrolling_std_7          6\n",
              "Volumerolling_std_3       2\n",
              "Volumerolling_std_7       6\n",
              "Turnoverrolling_std_3     2\n",
              "Turnoverrolling_std_7     6\n",
              "Tradesrolling_std_3       2\n",
              "Tradesrolling_std_7       6\n",
              "dtype: int64"
            ]
          },
          "metadata": {
            "tags": []
          },
          "execution_count": 30
        }
      ]
    },
    {
      "cell_type": "code",
      "metadata": {
        "id": "tDiJnBmlK1Qx"
      },
      "source": [
        "data.dropna(inplace=True)"
      ],
      "execution_count": 31,
      "outputs": []
    },
    {
      "cell_type": "code",
      "metadata": {
        "id": "UaeMrLQfK4Bo"
      },
      "source": [
        "ind_features = ['Highrolling_mean_3', 'Highrolling_mean_7',\n",
        "       'Lowrolling_mean_3', 'Lowrolling_mean_7', 'Volumerolling_mean_3',\n",
        "       'Volumerolling_mean_7', 'Turnoverrolling_mean_3',\n",
        "       'Turnoverrolling_mean_7', 'Tradesrolling_mean_3',\n",
        "       'Tradesrolling_mean_7', 'Highrolling_std_3', 'Highrolling_std_7',\n",
        "       'Lowrolling_std_3', 'Lowrolling_std_7', 'Volumerolling_std_3',\n",
        "       'Volumerolling_std_7', 'Turnoverrolling_std_3', 'Turnoverrolling_std_7',\n",
        "       'Tradesrolling_std_3', 'Tradesrolling_std_7']"
      ],
      "execution_count": 32,
      "outputs": []
    },
    {
      "cell_type": "code",
      "metadata": {
        "id": "JTVjrKGILHbp"
      },
      "source": [
        "data_train = data[0:1800]\n",
        "test_data = data[1800:]"
      ],
      "execution_count": 33,
      "outputs": []
    },
    {
      "cell_type": "code",
      "metadata": {
        "colab": {
          "base_uri": "https://localhost:8080/",
          "height": 657
        },
        "id": "p3Y1EZ_lLRKe",
        "outputId": "ed78e796-8dcb-47c5-a3df-a81027f6153e"
      },
      "source": [
        "data_train"
      ],
      "execution_count": 34,
      "outputs": [
        {
          "output_type": "execute_result",
          "data": {
            "text/html": [
              "<div>\n",
              "<style scoped>\n",
              "    .dataframe tbody tr th:only-of-type {\n",
              "        vertical-align: middle;\n",
              "    }\n",
              "\n",
              "    .dataframe tbody tr th {\n",
              "        vertical-align: top;\n",
              "    }\n",
              "\n",
              "    .dataframe thead th {\n",
              "        text-align: right;\n",
              "    }\n",
              "</style>\n",
              "<table border=\"1\" class=\"dataframe\">\n",
              "  <thead>\n",
              "    <tr style=\"text-align: right;\">\n",
              "      <th></th>\n",
              "      <th>Symbol</th>\n",
              "      <th>Series</th>\n",
              "      <th>Prev Close</th>\n",
              "      <th>Open</th>\n",
              "      <th>High</th>\n",
              "      <th>Low</th>\n",
              "      <th>Last</th>\n",
              "      <th>Close</th>\n",
              "      <th>VWAP</th>\n",
              "      <th>Volume</th>\n",
              "      <th>Turnover</th>\n",
              "      <th>Trades</th>\n",
              "      <th>Deliverable Volume</th>\n",
              "      <th>%Deliverble</th>\n",
              "      <th>Highrolling_mean_3</th>\n",
              "      <th>Highrolling_mean_7</th>\n",
              "      <th>Lowrolling_mean_3</th>\n",
              "      <th>Lowrolling_mean_7</th>\n",
              "      <th>Volumerolling_mean_3</th>\n",
              "      <th>Volumerolling_mean_7</th>\n",
              "      <th>Turnoverrolling_mean_3</th>\n",
              "      <th>Turnoverrolling_mean_7</th>\n",
              "      <th>Tradesrolling_mean_3</th>\n",
              "      <th>Tradesrolling_mean_7</th>\n",
              "      <th>Highrolling_std_3</th>\n",
              "      <th>Highrolling_std_7</th>\n",
              "      <th>Lowrolling_std_3</th>\n",
              "      <th>Lowrolling_std_7</th>\n",
              "      <th>Volumerolling_std_3</th>\n",
              "      <th>Volumerolling_std_7</th>\n",
              "      <th>Turnoverrolling_std_3</th>\n",
              "      <th>Turnoverrolling_std_7</th>\n",
              "      <th>Tradesrolling_std_3</th>\n",
              "      <th>Tradesrolling_std_7</th>\n",
              "    </tr>\n",
              "    <tr>\n",
              "      <th>Date</th>\n",
              "      <th></th>\n",
              "      <th></th>\n",
              "      <th></th>\n",
              "      <th></th>\n",
              "      <th></th>\n",
              "      <th></th>\n",
              "      <th></th>\n",
              "      <th></th>\n",
              "      <th></th>\n",
              "      <th></th>\n",
              "      <th></th>\n",
              "      <th></th>\n",
              "      <th></th>\n",
              "      <th></th>\n",
              "      <th></th>\n",
              "      <th></th>\n",
              "      <th></th>\n",
              "      <th></th>\n",
              "      <th></th>\n",
              "      <th></th>\n",
              "      <th></th>\n",
              "      <th></th>\n",
              "      <th></th>\n",
              "      <th></th>\n",
              "      <th></th>\n",
              "      <th></th>\n",
              "      <th></th>\n",
              "      <th></th>\n",
              "      <th></th>\n",
              "      <th></th>\n",
              "      <th></th>\n",
              "      <th></th>\n",
              "      <th></th>\n",
              "      <th></th>\n",
              "    </tr>\n",
              "  </thead>\n",
              "  <tbody>\n",
              "    <tr>\n",
              "      <th>2011-06-09</th>\n",
              "      <td>BAJFINANCE</td>\n",
              "      <td>EQ</td>\n",
              "      <td>635.60</td>\n",
              "      <td>639.80</td>\n",
              "      <td>647.00</td>\n",
              "      <td>630.00</td>\n",
              "      <td>630.00</td>\n",
              "      <td>631.10</td>\n",
              "      <td>638.27</td>\n",
              "      <td>31252</td>\n",
              "      <td>1.994715e+12</td>\n",
              "      <td>894.0</td>\n",
              "      <td>18626.0</td>\n",
              "      <td>0.5960</td>\n",
              "      <td>638.650000</td>\n",
              "      <td>638.592857</td>\n",
              "      <td>612.666667</td>\n",
              "      <td>615.050000</td>\n",
              "      <td>2.136867e+04</td>\n",
              "      <td>1.866314e+04</td>\n",
              "      <td>1.356553e+12</td>\n",
              "      <td>1.175452e+12</td>\n",
              "      <td>682.666667</td>\n",
              "      <td>614.142857</td>\n",
              "      <td>12.769789</td>\n",
              "      <td>7.494911</td>\n",
              "      <td>15.011107</td>\n",
              "      <td>9.410145</td>\n",
              "      <td>13497.047986</td>\n",
              "      <td>18373.894011</td>\n",
              "      <td>8.665128e+11</td>\n",
              "      <td>1.155773e+12</td>\n",
              "      <td>354.841279</td>\n",
              "      <td>463.942320</td>\n",
              "    </tr>\n",
              "    <tr>\n",
              "      <th>2011-06-10</th>\n",
              "      <td>BAJFINANCE</td>\n",
              "      <td>EQ</td>\n",
              "      <td>631.10</td>\n",
              "      <td>641.85</td>\n",
              "      <td>648.25</td>\n",
              "      <td>618.55</td>\n",
              "      <td>621.10</td>\n",
              "      <td>622.20</td>\n",
              "      <td>634.16</td>\n",
              "      <td>30885</td>\n",
              "      <td>1.958588e+12</td>\n",
              "      <td>1360.0</td>\n",
              "      <td>12656.0</td>\n",
              "      <td>0.4098</td>\n",
              "      <td>646.750000</td>\n",
              "      <td>640.271429</td>\n",
              "      <td>617.516667</td>\n",
              "      <td>615.414286</td>\n",
              "      <td>2.966667e+04</td>\n",
              "      <td>2.209043e+04</td>\n",
              "      <td>1.886054e+12</td>\n",
              "      <td>1.393498e+12</td>\n",
              "      <td>1045.000000</td>\n",
              "      <td>606.142857</td>\n",
              "      <td>1.639360</td>\n",
              "      <td>8.227994</td>\n",
              "      <td>13.030765</td>\n",
              "      <td>9.501961</td>\n",
              "      <td>2434.970705</td>\n",
              "      <td>18047.331029</td>\n",
              "      <td>1.579562e+11</td>\n",
              "      <td>1.136003e+12</td>\n",
              "      <td>272.875429</td>\n",
              "      <td>448.020620</td>\n",
              "    </tr>\n",
              "    <tr>\n",
              "      <th>2011-06-13</th>\n",
              "      <td>BAJFINANCE</td>\n",
              "      <td>EQ</td>\n",
              "      <td>622.20</td>\n",
              "      <td>616.00</td>\n",
              "      <td>627.85</td>\n",
              "      <td>616.00</td>\n",
              "      <td>622.75</td>\n",
              "      <td>624.95</td>\n",
              "      <td>622.92</td>\n",
              "      <td>3981</td>\n",
              "      <td>2.479856e+11</td>\n",
              "      <td>250.0</td>\n",
              "      <td>1745.0</td>\n",
              "      <td>0.4383</td>\n",
              "      <td>641.033333</td>\n",
              "      <td>638.692857</td>\n",
              "      <td>621.516667</td>\n",
              "      <td>614.842857</td>\n",
              "      <td>2.203933e+04</td>\n",
              "      <td>2.226357e+04</td>\n",
              "      <td>1.400430e+12</td>\n",
              "      <td>1.403765e+12</td>\n",
              "      <td>834.666667</td>\n",
              "      <td>580.142857</td>\n",
              "      <td>11.434196</td>\n",
              "      <td>9.497080</td>\n",
              "      <td>7.456597</td>\n",
              "      <td>9.298317</td>\n",
              "      <td>15640.051929</td>\n",
              "      <td>17835.642665</td>\n",
              "      <td>9.982094e+11</td>\n",
              "      <td>1.123423e+12</td>\n",
              "      <td>557.373603</td>\n",
              "      <td>464.778596</td>\n",
              "    </tr>\n",
              "    <tr>\n",
              "      <th>2011-06-14</th>\n",
              "      <td>BAJFINANCE</td>\n",
              "      <td>EQ</td>\n",
              "      <td>624.95</td>\n",
              "      <td>625.00</td>\n",
              "      <td>628.95</td>\n",
              "      <td>619.95</td>\n",
              "      <td>621.20</td>\n",
              "      <td>622.10</td>\n",
              "      <td>625.35</td>\n",
              "      <td>5597</td>\n",
              "      <td>3.500088e+11</td>\n",
              "      <td>198.0</td>\n",
              "      <td>3717.0</td>\n",
              "      <td>0.6641</td>\n",
              "      <td>635.016667</td>\n",
              "      <td>637.428571</td>\n",
              "      <td>618.166667</td>\n",
              "      <td>614.835714</td>\n",
              "      <td>1.348767e+04</td>\n",
              "      <td>1.571643e+04</td>\n",
              "      <td>8.521943e+11</td>\n",
              "      <td>9.945331e+11</td>\n",
              "      <td>602.666667</td>\n",
              "      <td>589.142857</td>\n",
              "      <td>11.473593</td>\n",
              "      <td>10.198891</td>\n",
              "      <td>2.002707</td>\n",
              "      <td>9.293713</td>\n",
              "      <td>15088.183102</td>\n",
              "      <td>13139.472184</td>\n",
              "      <td>9.595224e+11</td>\n",
              "      <td>8.397765e+11</td>\n",
              "      <td>656.385050</td>\n",
              "      <td>455.234163</td>\n",
              "    </tr>\n",
              "    <tr>\n",
              "      <th>2011-06-15</th>\n",
              "      <td>BAJFINANCE</td>\n",
              "      <td>EQ</td>\n",
              "      <td>622.10</td>\n",
              "      <td>612.00</td>\n",
              "      <td>623.00</td>\n",
              "      <td>598.10</td>\n",
              "      <td>605.00</td>\n",
              "      <td>601.70</td>\n",
              "      <td>606.90</td>\n",
              "      <td>12590</td>\n",
              "      <td>7.640851e+11</td>\n",
              "      <td>481.0</td>\n",
              "      <td>9021.0</td>\n",
              "      <td>0.7165</td>\n",
              "      <td>626.600000</td>\n",
              "      <td>634.857143</td>\n",
              "      <td>611.350000</td>\n",
              "      <td>612.942857</td>\n",
              "      <td>7.389333e+03</td>\n",
              "      <td>1.673700e+04</td>\n",
              "      <td>4.540265e+11</td>\n",
              "      <td>1.055761e+12</td>\n",
              "      <td>309.666667</td>\n",
              "      <td>619.571429</td>\n",
              "      <td>3.165833</td>\n",
              "      <td>11.352292</td>\n",
              "      <td>11.643560</td>\n",
              "      <td>11.262712</td>\n",
              "      <td>4575.812970</td>\n",
              "      <td>12469.137006</td>\n",
              "      <td>2.733211e+11</td>\n",
              "      <td>7.983186e+11</td>\n",
              "      <td>150.639747</td>\n",
              "      <td>436.941971</td>\n",
              "    </tr>\n",
              "    <tr>\n",
              "      <th>...</th>\n",
              "      <td>...</td>\n",
              "      <td>...</td>\n",
              "      <td>...</td>\n",
              "      <td>...</td>\n",
              "      <td>...</td>\n",
              "      <td>...</td>\n",
              "      <td>...</td>\n",
              "      <td>...</td>\n",
              "      <td>...</td>\n",
              "      <td>...</td>\n",
              "      <td>...</td>\n",
              "      <td>...</td>\n",
              "      <td>...</td>\n",
              "      <td>...</td>\n",
              "      <td>...</td>\n",
              "      <td>...</td>\n",
              "      <td>...</td>\n",
              "      <td>...</td>\n",
              "      <td>...</td>\n",
              "      <td>...</td>\n",
              "      <td>...</td>\n",
              "      <td>...</td>\n",
              "      <td>...</td>\n",
              "      <td>...</td>\n",
              "      <td>...</td>\n",
              "      <td>...</td>\n",
              "      <td>...</td>\n",
              "      <td>...</td>\n",
              "      <td>...</td>\n",
              "      <td>...</td>\n",
              "      <td>...</td>\n",
              "      <td>...</td>\n",
              "      <td>...</td>\n",
              "      <td>...</td>\n",
              "    </tr>\n",
              "    <tr>\n",
              "      <th>2018-09-04</th>\n",
              "      <td>BAJFINANCE</td>\n",
              "      <td>EQ</td>\n",
              "      <td>2724.05</td>\n",
              "      <td>2724.00</td>\n",
              "      <td>2777.65</td>\n",
              "      <td>2683.50</td>\n",
              "      <td>2748.00</td>\n",
              "      <td>2746.30</td>\n",
              "      <td>2726.23</td>\n",
              "      <td>2606992</td>\n",
              "      <td>7.107270e+14</td>\n",
              "      <td>108019.0</td>\n",
              "      <td>608250.0</td>\n",
              "      <td>0.2333</td>\n",
              "      <td>2870.833333</td>\n",
              "      <td>2934.485714</td>\n",
              "      <td>2746.633333</td>\n",
              "      <td>2848.814286</td>\n",
              "      <td>2.160346e+06</td>\n",
              "      <td>1.649480e+06</td>\n",
              "      <td>6.015502e+14</td>\n",
              "      <td>4.715141e+14</td>\n",
              "      <td>106854.666667</td>\n",
              "      <td>87658.142857</td>\n",
              "      <td>88.954937</td>\n",
              "      <td>79.489416</td>\n",
              "      <td>83.341306</td>\n",
              "      <td>107.041856</td>\n",
              "      <td>696998.737787</td>\n",
              "      <td>642979.884199</td>\n",
              "      <td>1.827289e+14</td>\n",
              "      <td>1.673270e+14</td>\n",
              "      <td>2794.744413</td>\n",
              "      <td>21708.856675</td>\n",
              "    </tr>\n",
              "    <tr>\n",
              "      <th>2018-09-05</th>\n",
              "      <td>BAJFINANCE</td>\n",
              "      <td>EQ</td>\n",
              "      <td>2746.30</td>\n",
              "      <td>2740.15</td>\n",
              "      <td>2764.80</td>\n",
              "      <td>2668.00</td>\n",
              "      <td>2704.45</td>\n",
              "      <td>2716.90</td>\n",
              "      <td>2712.53</td>\n",
              "      <td>1728455</td>\n",
              "      <td>4.688484e+14</td>\n",
              "      <td>70749.0</td>\n",
              "      <td>435147.0</td>\n",
              "      <td>0.2518</td>\n",
              "      <td>2807.483333</td>\n",
              "      <td>2906.742857</td>\n",
              "      <td>2688.933333</td>\n",
              "      <td>2812.092857</td>\n",
              "      <td>2.284096e+06</td>\n",
              "      <td>1.756973e+06</td>\n",
              "      <td>6.276342e+14</td>\n",
              "      <td>4.974827e+14</td>\n",
              "      <td>95882.333333</td>\n",
              "      <td>90342.000000</td>\n",
              "      <td>63.129081</td>\n",
              "      <td>100.594924</td>\n",
              "      <td>24.113551</td>\n",
              "      <td>119.854378</td>\n",
              "      <td>483305.554092</td>\n",
              "      <td>570427.041296</td>\n",
              "      <td>1.375623e+14</td>\n",
              "      <td>1.467744e+14</td>\n",
              "      <td>21770.352164</td>\n",
              "      <td>17267.163548</td>\n",
              "    </tr>\n",
              "    <tr>\n",
              "      <th>2018-09-06</th>\n",
              "      <td>BAJFINANCE</td>\n",
              "      <td>EQ</td>\n",
              "      <td>2716.90</td>\n",
              "      <td>2729.00</td>\n",
              "      <td>2731.50</td>\n",
              "      <td>2671.40</td>\n",
              "      <td>2672.20</td>\n",
              "      <td>2684.10</td>\n",
              "      <td>2695.89</td>\n",
              "      <td>1147879</td>\n",
              "      <td>3.094561e+14</td>\n",
              "      <td>46641.0</td>\n",
              "      <td>360465.0</td>\n",
              "      <td>0.3140</td>\n",
              "      <td>2757.983333</td>\n",
              "      <td>2870.957143</td>\n",
              "      <td>2674.300000</td>\n",
              "      <td>2775.750000</td>\n",
              "      <td>1.827775e+06</td>\n",
              "      <td>1.744707e+06</td>\n",
              "      <td>4.963438e+14</td>\n",
              "      <td>4.897104e+14</td>\n",
              "      <td>75136.333333</td>\n",
              "      <td>84844.571429</td>\n",
              "      <td>23.818183</td>\n",
              "      <td>113.135709</td>\n",
              "      <td>8.146778</td>\n",
              "      <td>118.187686</td>\n",
              "      <td>734609.476628</td>\n",
              "      <td>584307.816124</td>\n",
              "      <td>2.020435e+14</td>\n",
              "      <td>1.561692e+14</td>\n",
              "      <td>30923.312263</td>\n",
              "      <td>24013.596897</td>\n",
              "    </tr>\n",
              "    <tr>\n",
              "      <th>2018-09-07</th>\n",
              "      <td>BAJFINANCE</td>\n",
              "      <td>EQ</td>\n",
              "      <td>2684.10</td>\n",
              "      <td>2698.40</td>\n",
              "      <td>2751.40</td>\n",
              "      <td>2672.60</td>\n",
              "      <td>2745.00</td>\n",
              "      <td>2744.20</td>\n",
              "      <td>2716.32</td>\n",
              "      <td>1264436</td>\n",
              "      <td>3.434610e+14</td>\n",
              "      <td>56453.0</td>\n",
              "      <td>227156.0</td>\n",
              "      <td>0.1797</td>\n",
              "      <td>2749.233333</td>\n",
              "      <td>2836.300000</td>\n",
              "      <td>2670.666667</td>\n",
              "      <td>2738.978571</td>\n",
              "      <td>1.380257e+06</td>\n",
              "      <td>1.724972e+06</td>\n",
              "      <td>3.739218e+14</td>\n",
              "      <td>4.792625e+14</td>\n",
              "      <td>57947.666667</td>\n",
              "      <td>83329.428571</td>\n",
              "      <td>16.755397</td>\n",
              "      <td>106.101111</td>\n",
              "      <td>2.386071</td>\n",
              "      <td>100.988340</td>\n",
              "      <td>307128.544854</td>\n",
              "      <td>599913.723573</td>\n",
              "      <td>8.394860e+13</td>\n",
              "      <td>1.641199e+14</td>\n",
              "      <td>12123.301421</td>\n",
              "      <td>25604.694191</td>\n",
              "    </tr>\n",
              "    <tr>\n",
              "      <th>2018-09-10</th>\n",
              "      <td>BAJFINANCE</td>\n",
              "      <td>EQ</td>\n",
              "      <td>2744.20</td>\n",
              "      <td>2732.00</td>\n",
              "      <td>2738.00</td>\n",
              "      <td>2596.00</td>\n",
              "      <td>2607.60</td>\n",
              "      <td>2615.65</td>\n",
              "      <td>2655.39</td>\n",
              "      <td>1570179</td>\n",
              "      <td>4.169441e+14</td>\n",
              "      <td>77016.0</td>\n",
              "      <td>516987.0</td>\n",
              "      <td>0.3293</td>\n",
              "      <td>2740.300000</td>\n",
              "      <td>2799.742857</td>\n",
              "      <td>2646.666667</td>\n",
              "      <td>2692.557143</td>\n",
              "      <td>1.327498e+06</td>\n",
              "      <td>1.741712e+06</td>\n",
              "      <td>3.566204e+14</td>\n",
              "      <td>4.776229e+14</td>\n",
              "      <td>60036.666667</td>\n",
              "      <td>81631.857143</td>\n",
              "      <td>10.147413</td>\n",
              "      <td>84.670766</td>\n",
              "      <td>43.882722</td>\n",
              "      <td>74.650851</td>\n",
              "      <td>218098.451125</td>\n",
              "      <td>592650.415369</td>\n",
              "      <td>5.493903e+13</td>\n",
              "      <td>1.647685e+14</td>\n",
              "      <td>15501.359822</td>\n",
              "      <td>25567.783116</td>\n",
              "    </tr>\n",
              "  </tbody>\n",
              "</table>\n",
              "<p>1800 rows × 34 columns</p>\n",
              "</div>"
            ],
            "text/plain": [
              "                Symbol Series  ...  Tradesrolling_std_3  Tradesrolling_std_7\n",
              "Date                           ...                                          \n",
              "2011-06-09  BAJFINANCE     EQ  ...           354.841279           463.942320\n",
              "2011-06-10  BAJFINANCE     EQ  ...           272.875429           448.020620\n",
              "2011-06-13  BAJFINANCE     EQ  ...           557.373603           464.778596\n",
              "2011-06-14  BAJFINANCE     EQ  ...           656.385050           455.234163\n",
              "2011-06-15  BAJFINANCE     EQ  ...           150.639747           436.941971\n",
              "...                ...    ...  ...                  ...                  ...\n",
              "2018-09-04  BAJFINANCE     EQ  ...          2794.744413         21708.856675\n",
              "2018-09-05  BAJFINANCE     EQ  ...         21770.352164         17267.163548\n",
              "2018-09-06  BAJFINANCE     EQ  ...         30923.312263         24013.596897\n",
              "2018-09-07  BAJFINANCE     EQ  ...         12123.301421         25604.694191\n",
              "2018-09-10  BAJFINANCE     EQ  ...         15501.359822         25567.783116\n",
              "\n",
              "[1800 rows x 34 columns]"
            ]
          },
          "metadata": {
            "tags": []
          },
          "execution_count": 34
        }
      ]
    },
    {
      "cell_type": "code",
      "metadata": {
        "colab": {
          "base_uri": "https://localhost:8080/"
        },
        "id": "cvB6xMmXLX5l",
        "outputId": "2f3bc2aa-47c5-4c7a-9c86-559c0cd500bd"
      },
      "source": [
        "!pip install pmdarima"
      ],
      "execution_count": 35,
      "outputs": [
        {
          "output_type": "stream",
          "text": [
            "Requirement already satisfied: pmdarima in /usr/local/lib/python3.7/dist-packages (1.8.2)\n",
            "Requirement already satisfied: scikit-learn>=0.22 in /usr/local/lib/python3.7/dist-packages (from pmdarima) (0.22.2.post1)\n",
            "Requirement already satisfied: numpy~=1.19.0 in /usr/local/lib/python3.7/dist-packages (from pmdarima) (1.19.5)\n",
            "Requirement already satisfied: urllib3 in /usr/local/lib/python3.7/dist-packages (from pmdarima) (1.24.3)\n",
            "Requirement already satisfied: joblib>=0.11 in /usr/local/lib/python3.7/dist-packages (from pmdarima) (1.0.1)\n",
            "Requirement already satisfied: statsmodels!=0.12.0,>=0.11 in /usr/local/lib/python3.7/dist-packages (from pmdarima) (0.12.2)\n",
            "Requirement already satisfied: Cython!=0.29.18,>=0.29 in /usr/local/lib/python3.7/dist-packages (from pmdarima) (0.29.23)\n",
            "Requirement already satisfied: pandas>=0.19 in /usr/local/lib/python3.7/dist-packages (from pmdarima) (1.1.5)\n",
            "Requirement already satisfied: scipy>=1.3.2 in /usr/local/lib/python3.7/dist-packages (from pmdarima) (1.4.1)\n",
            "Requirement already satisfied: setuptools!=50.0.0,>=38.6.0 in /usr/local/lib/python3.7/dist-packages (from pmdarima) (56.1.0)\n",
            "Requirement already satisfied: patsy>=0.5 in /usr/local/lib/python3.7/dist-packages (from statsmodels!=0.12.0,>=0.11->pmdarima) (0.5.1)\n",
            "Requirement already satisfied: python-dateutil>=2.7.3 in /usr/local/lib/python3.7/dist-packages (from pandas>=0.19->pmdarima) (2.8.1)\n",
            "Requirement already satisfied: pytz>=2017.2 in /usr/local/lib/python3.7/dist-packages (from pandas>=0.19->pmdarima) (2018.9)\n",
            "Requirement already satisfied: six in /usr/local/lib/python3.7/dist-packages (from patsy>=0.5->statsmodels!=0.12.0,>=0.11->pmdarima) (1.15.0)\n"
          ],
          "name": "stdout"
        }
      ]
    },
    {
      "cell_type": "code",
      "metadata": {
        "id": "lFrLlmBjg2_N"
      },
      "source": [
        "from pmdarima import auto_arima"
      ],
      "execution_count": 36,
      "outputs": []
    },
    {
      "cell_type": "code",
      "metadata": {
        "colab": {
          "base_uri": "https://localhost:8080/"
        },
        "id": "ExtJj6YihCCU",
        "outputId": "69fa822a-1be1-4bf7-c7f1-5fb8c78aaf4e"
      },
      "source": [
        "model = auto_arima(y=data_train['VWAP'],exogenous=data_train[ind_features],trace=True)"
      ],
      "execution_count": 37,
      "outputs": [
        {
          "output_type": "stream",
          "text": [
            "Performing stepwise search to minimize aic\n",
            " ARIMA(2,0,2)(0,0,0)[0] intercept   : AIC=20931.534, Time=5.99 sec\n",
            " ARIMA(0,0,0)(0,0,0)[0] intercept   : AIC=20925.222, Time=3.30 sec\n",
            " ARIMA(1,0,0)(0,0,0)[0] intercept   : AIC=20926.346, Time=3.41 sec\n",
            " ARIMA(0,0,1)(0,0,0)[0] intercept   : AIC=20926.318, Time=4.91 sec\n",
            " ARIMA(0,0,0)(0,0,0)[0]             : AIC=32616.913, Time=3.14 sec\n",
            " ARIMA(1,0,1)(0,0,0)[0] intercept   : AIC=20929.232, Time=5.13 sec\n",
            "\n",
            "Best model:  ARIMA(0,0,0)(0,0,0)[0] intercept\n",
            "Total fit time: 25.926 seconds\n"
          ],
          "name": "stdout"
        },
        {
          "output_type": "stream",
          "text": [
            "/usr/local/lib/python3.7/dist-packages/statsmodels/tsa/statespace/sarimax.py:1890: RuntimeWarning: divide by zero encountered in reciprocal\n",
            "  return np.roots(self.polynomial_reduced_ar)**-1\n",
            "/usr/local/lib/python3.7/dist-packages/statsmodels/tsa/statespace/sarimax.py:1897: RuntimeWarning: divide by zero encountered in reciprocal\n",
            "  return np.roots(self.polynomial_reduced_ma)**-1\n"
          ],
          "name": "stderr"
        }
      ]
    },
    {
      "cell_type": "code",
      "metadata": {
        "id": "OZqLWVl9ham3"
      },
      "source": [
        "import warnings\n",
        "warnings.filterwarnings('ignore')"
      ],
      "execution_count": 38,
      "outputs": []
    },
    {
      "cell_type": "code",
      "metadata": {
        "colab": {
          "base_uri": "https://localhost:8080/"
        },
        "id": "5cTR1ANQhmMI",
        "outputId": "274252d7-4d4a-4c64-d44c-eac9c5a4f323"
      },
      "source": [
        "model.fit(data_train['VWAP'],data_train[ind_features])"
      ],
      "execution_count": 39,
      "outputs": [
        {
          "output_type": "execute_result",
          "data": {
            "text/plain": [
              "ARIMA(maxiter=50, method='lbfgs', order=(0, 0, 0), out_of_sample_size=0,\n",
              "      scoring='mse', scoring_args={}, seasonal_order=(0, 0, 0, 0),\n",
              "      start_params=None, suppress_warnings=True, trend=None,\n",
              "      with_intercept=True)"
            ]
          },
          "metadata": {
            "tags": []
          },
          "execution_count": 39
        }
      ]
    },
    {
      "cell_type": "code",
      "metadata": {
        "id": "zsKLbGpXh1Sc"
      },
      "source": [
        "forecast = model.predict(n_periods=len(test_data),exogenous=test_data[ind_features])"
      ],
      "execution_count": 40,
      "outputs": []
    },
    {
      "cell_type": "code",
      "metadata": {
        "id": "CLv4KxR7iE48"
      },
      "source": [
        "test_data['Forecast_ARIMA'] = forecast"
      ],
      "execution_count": 41,
      "outputs": []
    },
    {
      "cell_type": "code",
      "metadata": {
        "colab": {
          "base_uri": "https://localhost:8080/",
          "height": 459
        },
        "id": "aiEIcCziiL4O",
        "outputId": "714294ce-71a2-49c7-c500-ed95064d1628"
      },
      "source": [
        "test_data[['VWAP','Forecast_ARIMA']].plot(figsize=(14,7))"
      ],
      "execution_count": 42,
      "outputs": [
        {
          "output_type": "execute_result",
          "data": {
            "text/plain": [
              "<matplotlib.axes._subplots.AxesSubplot at 0x7f7219c575d0>"
            ]
          },
          "metadata": {
            "tags": []
          },
          "execution_count": 42
        },
        {
          "output_type": "display_data",
          "data": {
            "image/png": "[encoded data removed]",
            "text/plain": [
              "<Figure size 1008x504 with 1 Axes>"
            ]
          },
          "metadata": {
            "tags": [],
            "needs_background": "light"
          }
        }
      ]
    },
    {
      "cell_type": "code",
      "metadata": {
        "colab": {
          "base_uri": "https://localhost:8080/"
        },
        "id": "jQ2Rkkv0iYaV",
        "outputId": "2a936115-bfb9-4aa7-ce43-b01184551064"
      },
      "source": [
        "from sklearn.metrics import mean_absolute_error,mean_squared_error\n",
        "np.sqrt(mean_squared_error(test_data['VWAP'],test_data['Forecast_ARIMA']))"
      ],
      "execution_count": 43,
      "outputs": [
        {
          "output_type": "execute_result",
          "data": {
            "text/plain": [
              "187.82948880630076"
            ]
          },
          "metadata": {
            "tags": []
          },
          "execution_count": 43
        }
      ]
    },
    {
      "cell_type": "code",
      "metadata": {
        "colab": {
          "base_uri": "https://localhost:8080/"
        },
        "id": "2AmpVMowjHyG",
        "outputId": "36012bce-ad5f-4217-edc8-573b675647b1"
      },
      "source": [
        "mean_absolute_error(test_data['VWAP'],test_data['Forecast_ARIMA'])"
      ],
      "execution_count": 44,
      "outputs": [
        {
          "output_type": "execute_result",
          "data": {
            "text/plain": [
              "124.68829484488094"
            ]
          },
          "metadata": {
            "tags": []
          },
          "execution_count": 44
        }
      ]
    },
    {
      "cell_type": "code",
      "metadata": {
        "id": "shdpmLmHjLpk",
        "colab": {
          "base_uri": "https://localhost:8080/"
        },
        "outputId": "59aeb3d9-3a1f-4fc9-ee48-07340de5dd10"
      },
      "source": [
        "from sklearn.metrics import r2_score\n",
        "r2_score(test_data['VWAP'],test_data['Forecast_ARIMA'])"
      ],
      "execution_count": 45,
      "outputs": [
        {
          "output_type": "execute_result",
          "data": {
            "text/plain": [
              "0.934866563800032"
            ]
          },
          "metadata": {
            "tags": []
          },
          "execution_count": 45
        }
      ]
    },
    {
      "cell_type": "code",
      "metadata": {
        "id": "HV8VabpTPF32"
      },
      "source": [
        ""
      ],
      "execution_count": 45,
      "outputs": []
    }
  ]
}